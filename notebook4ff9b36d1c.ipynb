{
 "cells": [
  {
   "cell_type": "code",
   "execution_count": 1,
   "id": "c2e6d09f",
   "metadata": {
    "_cell_guid": "b1076dfc-b9ad-4769-8c92-a6c4dae69d19",
    "_uuid": "8f2839f25d086af736a60e9eeb907d3b93b6e0e5",
    "execution": {
     "iopub.execute_input": "2025-01-28T15:14:33.863443Z",
     "iopub.status.busy": "2025-01-28T15:14:33.862944Z",
     "iopub.status.idle": "2025-01-28T15:14:34.825981Z",
     "shell.execute_reply": "2025-01-28T15:14:34.824938Z"
    },
    "papermill": {
     "duration": 0.968448,
     "end_time": "2025-01-28T15:14:34.828022",
     "exception": false,
     "start_time": "2025-01-28T15:14:33.859574",
     "status": "completed"
    },
    "tags": []
   },
   "outputs": [
    {
     "name": "stdout",
     "output_type": "stream",
     "text": [
      "/kaggle/input/adventure-works/AdventureWorks_Calendar.csv\n",
      "/kaggle/input/adventure-works/AdventureWorks_Product_Categories.csv\n",
      "/kaggle/input/adventure-works/AdventureWorks_Sales_2017.csv\n",
      "/kaggle/input/adventure-works/AdventureWorks_Product_Subcategories.csv\n",
      "/kaggle/input/adventure-works/AdventureWorks_Territories.csv\n",
      "/kaggle/input/adventure-works/AdventureWorks_Customers.csv\n",
      "/kaggle/input/adventure-works/AdventureWorks_Products.csv\n",
      "/kaggle/input/adventure-works/AdventureWorks_Sales_2016.csv\n",
      "/kaggle/input/adventure-works/AdventureWorks_Sales_2015.csv\n",
      "/kaggle/input/adventure-works/AdventureWorks_Returns.csv\n"
     ]
    }
   ],
   "source": [
    "# This Python 3 environment comes with many helpful analytics libraries installed\n",
    "# It is defined by the kaggle/python Docker image: https://github.com/kaggle/docker-python\n",
    "# For example, here's several helpful packages to load\n",
    "\n",
    "import numpy as np # linear algebra\n",
    "import pandas as pd # data processing, CSV file I/O (e.g. pd.read_csv)\n",
    "\n",
    "# Input data files are available in the read-only \"../input/\" directory\n",
    "# For example, running this (by clicking run or pressing Shift+Enter) will list all files under the input directory\n",
    "\n",
    "import os\n",
    "for dirname, _, filenames in os.walk('/kaggle/input'):\n",
    "    for filename in filenames:\n",
    "        print(os.path.join(dirname, filename))\n",
    "\n",
    "# You can write up to 20GB to the current directory (/kaggle/working/) that gets preserved as output when you create a version using \"Save & Run All\" \n",
    "# You can also write temporary files to /kaggle/temp/, but they won't be saved outside of the current session"
   ]
  }
 ],
 "metadata": {
  "kaggle": {
   "accelerator": "none",
   "dataSources": [
    {
     "datasetId": 464368,
     "sourceId": 872662,
     "sourceType": "datasetVersion"
    }
   ],
   "isGpuEnabled": false,
   "isInternetEnabled": false,
   "language": "python",
   "sourceType": "notebook"
  },
  "kernelspec": {
   "display_name": "Python 3",
   "language": "python",
   "name": "python3"
  },
  "language_info": {
   "codemirror_mode": {
    "name": "ipython",
    "version": 3
   },
   "file_extension": ".py",
   "mimetype": "text/x-python",
   "name": "python",
   "nbconvert_exporter": "python",
   "pygments_lexer": "ipython3",
   "version": "3.10.12"
  },
  "papermill": {
   "default_parameters": {},
   "duration": 4.551301,
   "end_time": "2025-01-28T15:14:35.450464",
   "environment_variables": {},
   "exception": null,
   "input_path": "__notebook__.ipynb",
   "output_path": "__notebook__.ipynb",
   "parameters": {},
   "start_time": "2025-01-28T15:14:30.899163",
   "version": "2.6.0"
  }
 },
 "nbformat": 4,
 "nbformat_minor": 5
}
